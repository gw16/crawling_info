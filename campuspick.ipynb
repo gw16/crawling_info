{
 "cells": [
  {
   "cell_type": "code",
   "execution_count": 12,
   "metadata": {},
   "outputs": [],
   "source": [
    "import pandas as pd\n",
    "import numpy as np\n",
    "import csv\n",
    "\n",
    "#크롤링을 위한 라이브러리\n",
    "import requests\n",
    "from bs4 import BeautifulSoup\n",
    "import re\n",
    "import urllib.request\n",
    "import time\n",
    "from time import sleep\n",
    "\n",
    "from selenium.webdriver import Chrome   \n",
    "from selenium.webdriver.chrome.options import Options\n",
    "from selenium.webdriver.common.keys import Keys\n",
    "from selenium import webdriver"
   ]
  },
  {
   "cell_type": "code",
   "execution_count": 13,
   "metadata": {},
   "outputs": [],
   "source": [
    "url ='https://www.campuspick.com/contest?category=108'"
   ]
  },
  {
   "cell_type": "code",
   "execution_count": 14,
   "metadata": {},
   "outputs": [],
   "source": [
    "delay=3\n",
    "browser = Chrome(r\"C:\\chromedriver.exe\")\n",
    "browser.implicitly_wait(delay)"
   ]
  },
  {
   "cell_type": "code",
   "execution_count": 15,
   "metadata": {},
   "outputs": [],
   "source": [
    "browser.get(url)  \n",
    "browser.maximize_window()"
   ]
  },
  {
   "cell_type": "code",
   "execution_count": 16,
   "metadata": {},
   "outputs": [],
   "source": [
    "body = browser.find_element_by_tag_name('body')"
   ]
  },
  {
   "cell_type": "code",
   "execution_count": 17,
   "metadata": {
    "scrolled": true
   },
   "outputs": [],
   "source": [
    "#스크롤"
   ]
  },
  {
   "cell_type": "code",
   "execution_count": 18,
   "metadata": {},
   "outputs": [],
   "source": [
    "SCROLL_PAUSE_TIME = 0.5"
   ]
  },
  {
   "cell_type": "code",
   "execution_count": 19,
   "metadata": {},
   "outputs": [],
   "source": [
    "while True:\n",
    "    last_height = browser.execute_script('return document.documentElement.scrollHeight')\n",
    "    # 현재 화면의 길이를 리턴 받아 last_height에 넣음\n",
    "    for i in range(10):\n",
    "        body.send_keys(Keys.END)\n",
    "        # body 본문에 END키를 입력(스크롤내림)\n",
    "        time.sleep(SCROLL_PAUSE_TIME)\n",
    "    new_height = browser.execute_script('return document.documentElement.scrollHeight')\n",
    "    if new_height == last_height:\n",
    "        break;"
   ]
  },
  {
   "cell_type": "markdown",
   "metadata": {},
   "source": [
    "# 페이지 소스 리턴"
   ]
  },
  {
   "cell_type": "code",
   "execution_count": 20,
   "metadata": {},
   "outputs": [],
   "source": [
    "page = browser.page_source"
   ]
  },
  {
   "cell_type": "code",
   "execution_count": 21,
   "metadata": {},
   "outputs": [],
   "source": [
    "soup = BeautifulSoup(page, 'lxml')"
   ]
  },
  {
   "cell_type": "markdown",
   "metadata": {},
   "source": [
    "# 디데이 길이 "
   ]
  },
  {
   "cell_type": "code",
   "execution_count": 28,
   "metadata": {},
   "outputs": [],
   "source": [
    "dday_list = soup.select('.list > .item > .top > .info > .dday ')"
   ]
  },
  {
   "cell_type": "code",
   "execution_count": 30,
   "metadata": {},
   "outputs": [
    {
     "data": {
      "text/plain": [
       "[<span class=\"dday highlight\">D-3</span>,\n",
       " <span class=\"dday highlight\">D-10</span>,\n",
       " <span class=\"dday highlight\">D-DAY</span>,\n",
       " <span class=\"dday highlight\">D-12</span>,\n",
       " <span class=\"dday\">D-66</span>,\n",
       " <span class=\"dday\">D-35</span>,\n",
       " <span class=\"dday\">마감</span>,\n",
       " <span class=\"dday\">마감</span>,\n",
       " <span class=\"dday\">마감</span>,\n",
       " <span class=\"dday\">마감</span>,\n",
       " <span class=\"dday\">마감</span>,\n",
       " <span class=\"dday\">마감</span>,\n",
       " <span class=\"dday\">마감</span>,\n",
       " <span class=\"dday\">마감</span>,\n",
       " <span class=\"dday\">마감</span>,\n",
       " <span class=\"dday\">마감</span>,\n",
       " <span class=\"dday\">마감</span>,\n",
       " <span class=\"dday\">마감</span>,\n",
       " <span class=\"dday\">마감</span>,\n",
       " <span class=\"dday\">마감</span>,\n",
       " <span class=\"dday\">마감</span>,\n",
       " <span class=\"dday\">마감</span>,\n",
       " <span class=\"dday\">마감</span>,\n",
       " <span class=\"dday\">마감</span>,\n",
       " <span class=\"dday\">마감</span>,\n",
       " <span class=\"dday\">마감</span>,\n",
       " <span class=\"dday\">마감</span>,\n",
       " <span class=\"dday\">마감</span>,\n",
       " <span class=\"dday\">마감</span>,\n",
       " <span class=\"dday\">마감</span>,\n",
       " <span class=\"dday\">마감</span>,\n",
       " <span class=\"dday\">마감</span>,\n",
       " <span class=\"dday\">마감</span>,\n",
       " <span class=\"dday\">마감</span>,\n",
       " <span class=\"dday\">마감</span>,\n",
       " <span class=\"dday\">마감</span>,\n",
       " <span class=\"dday\">마감</span>,\n",
       " <span class=\"dday\">마감</span>,\n",
       " <span class=\"dday\">마감</span>,\n",
       " <span class=\"dday\">마감</span>,\n",
       " <span class=\"dday\">마감</span>,\n",
       " <span class=\"dday\">마감</span>,\n",
       " <span class=\"dday\">마감</span>,\n",
       " <span class=\"dday\">마감</span>,\n",
       " <span class=\"dday\">마감</span>,\n",
       " <span class=\"dday\">마감</span>,\n",
       " <span class=\"dday\">마감</span>,\n",
       " <span class=\"dday\">마감</span>,\n",
       " <span class=\"dday\">마감</span>,\n",
       " <span class=\"dday\">마감</span>,\n",
       " <span class=\"dday\">마감</span>,\n",
       " <span class=\"dday\">마감</span>,\n",
       " <span class=\"dday\">마감</span>,\n",
       " <span class=\"dday\">마감</span>,\n",
       " <span class=\"dday\">마감</span>,\n",
       " <span class=\"dday\">마감</span>,\n",
       " <span class=\"dday\">마감</span>,\n",
       " <span class=\"dday\">마감</span>,\n",
       " <span class=\"dday\">마감</span>,\n",
       " <span class=\"dday\">마감</span>,\n",
       " <span class=\"dday\">마감</span>,\n",
       " <span class=\"dday\">마감</span>,\n",
       " <span class=\"dday\">마감</span>,\n",
       " <span class=\"dday\">마감</span>,\n",
       " <span class=\"dday\">마감</span>,\n",
       " <span class=\"dday\">마감</span>,\n",
       " <span class=\"dday\">마감</span>,\n",
       " <span class=\"dday\">마감</span>,\n",
       " <span class=\"dday\">마감</span>,\n",
       " <span class=\"dday\">마감</span>,\n",
       " <span class=\"dday\">마감</span>,\n",
       " <span class=\"dday\">마감</span>,\n",
       " <span class=\"dday\">마감</span>,\n",
       " <span class=\"dday\">마감</span>,\n",
       " <span class=\"dday\">마감</span>,\n",
       " <span class=\"dday\">마감</span>,\n",
       " <span class=\"dday\">마감</span>,\n",
       " <span class=\"dday\">마감</span>,\n",
       " <span class=\"dday\">마감</span>,\n",
       " <span class=\"dday\">마감</span>,\n",
       " <span class=\"dday\">마감</span>,\n",
       " <span class=\"dday\">마감</span>,\n",
       " <span class=\"dday\">마감</span>,\n",
       " <span class=\"dday\">마감</span>,\n",
       " <span class=\"dday\">마감</span>,\n",
       " <span class=\"dday\">마감</span>,\n",
       " <span class=\"dday\">마감</span>,\n",
       " <span class=\"dday\">마감</span>,\n",
       " <span class=\"dday\">마감</span>,\n",
       " <span class=\"dday\">마감</span>,\n",
       " <span class=\"dday\">마감</span>,\n",
       " <span class=\"dday\">마감</span>,\n",
       " <span class=\"dday\">마감</span>,\n",
       " <span class=\"dday\">마감</span>,\n",
       " <span class=\"dday\">마감</span>,\n",
       " <span class=\"dday\">마감</span>,\n",
       " <span class=\"dday\">마감</span>,\n",
       " <span class=\"dday\">마감</span>,\n",
       " <span class=\"dday\">마감</span>,\n",
       " <span class=\"dday\">마감</span>,\n",
       " <span class=\"dday\">마감</span>,\n",
       " <span class=\"dday\">마감</span>,\n",
       " <span class=\"dday\">마감</span>,\n",
       " <span class=\"dday\">마감</span>,\n",
       " <span class=\"dday\">마감</span>,\n",
       " <span class=\"dday\">마감</span>,\n",
       " <span class=\"dday\">마감</span>,\n",
       " <span class=\"dday\">마감</span>,\n",
       " <span class=\"dday\">마감</span>,\n",
       " <span class=\"dday\">마감</span>,\n",
       " <span class=\"dday\">마감</span>,\n",
       " <span class=\"dday\">마감</span>,\n",
       " <span class=\"dday\">마감</span>,\n",
       " <span class=\"dday\">마감</span>,\n",
       " <span class=\"dday\">마감</span>,\n",
       " <span class=\"dday\">마감</span>,\n",
       " <span class=\"dday\">마감</span>,\n",
       " <span class=\"dday\">마감</span>,\n",
       " <span class=\"dday\">마감</span>,\n",
       " <span class=\"dday\">마감</span>,\n",
       " <span class=\"dday\">마감</span>,\n",
       " <span class=\"dday\">마감</span>,\n",
       " <span class=\"dday\">마감</span>,\n",
       " <span class=\"dday\">마감</span>,\n",
       " <span class=\"dday\">마감</span>,\n",
       " <span class=\"dday\">마감</span>,\n",
       " <span class=\"dday\">마감</span>,\n",
       " <span class=\"dday\">마감</span>,\n",
       " <span class=\"dday\">마감</span>,\n",
       " <span class=\"dday\">마감</span>,\n",
       " <span class=\"dday\">마감</span>,\n",
       " <span class=\"dday\">마감</span>,\n",
       " <span class=\"dday\">마감</span>,\n",
       " <span class=\"dday\">마감</span>,\n",
       " <span class=\"dday\">마감</span>,\n",
       " <span class=\"dday\">마감</span>,\n",
       " <span class=\"dday\">마감</span>,\n",
       " <span class=\"dday\">마감</span>,\n",
       " <span class=\"dday\">마감</span>,\n",
       " <span class=\"dday\">마감</span>]"
      ]
     },
     "execution_count": 30,
     "metadata": {},
     "output_type": "execute_result"
    }
   ],
   "source": [
    "dday_list"
   ]
  },
  {
   "cell_type": "code",
   "execution_count": 29,
   "metadata": {},
   "outputs": [
    {
     "data": {
      "text/plain": [
       "'D-3'"
      ]
     },
     "execution_count": 29,
     "metadata": {},
     "output_type": "execute_result"
    }
   ],
   "source": [
    "dday_list[0].text"
   ]
  },
  {
   "cell_type": "code",
   "execution_count": 91,
   "metadata": {},
   "outputs": [],
   "source": [
    "for i in range(len(dday_list)):\n",
    "    if dday_list[i].text == '마감':\n",
    "        break"
   ]
  },
  {
   "cell_type": "code",
   "execution_count": 93,
   "metadata": {},
   "outputs": [],
   "source": [
    "len_dday = i"
   ]
  },
  {
   "cell_type": "markdown",
   "metadata": {},
   "source": [
    "# 데이터 수집"
   ]
  },
  {
   "cell_type": "code",
   "execution_count": 94,
   "metadata": {},
   "outputs": [],
   "source": [
    "base_url = 'https://www.campuspick.com/'"
   ]
  },
  {
   "cell_type": "code",
   "execution_count": 161,
   "metadata": {},
   "outputs": [],
   "source": [
    "links = []\n",
    "titles = []\n",
    "dday = []\n",
    "inst = []"
   ]
  },
  {
   "cell_type": "code",
   "execution_count": 162,
   "metadata": {},
   "outputs": [],
   "source": [
    "for i in range(len_dday):\n",
    "    links.append(base_url + soup.select('a.top')[i]['href'])\n",
    "    titles.append(soup.select(' .list > .item > .top > h2 ')[i].text)\n",
    "    dday.append(soup.select(' .list > .item > .top > .info > .dday ')[i].text)\n",
    "    inst.append(soup.select(' .list > .item > .top >  .company')[i].text)"
   ]
  },
  {
   "cell_type": "code",
   "execution_count": 163,
   "metadata": {},
   "outputs": [],
   "source": [
    "tabl_data = {'제목': titles, \n",
    "            '날짜': dday,\n",
    "            '기관':inst,\n",
    "            '링크':links}"
   ]
  },
  {
   "cell_type": "code",
   "execution_count": 164,
   "metadata": {},
   "outputs": [],
   "source": [
    "df = pd.DataFrame(tabl_data, columns=['제목','날짜','기관','링크'])  "
   ]
  },
  {
   "cell_type": "code",
   "execution_count": 167,
   "metadata": {},
   "outputs": [],
   "source": [
    "df.to_csv('campuspick.csv', encoding='utf-8-sig')"
   ]
  },
  {
   "cell_type": "code",
   "execution_count": null,
   "metadata": {},
   "outputs": [],
   "source": []
  }
 ],
 "metadata": {
  "kernelspec": {
   "display_name": "Python 3",
   "language": "python",
   "name": "python3"
  },
  "language_info": {
   "codemirror_mode": {
    "name": "ipython",
    "version": 3
   },
   "file_extension": ".py",
   "mimetype": "text/x-python",
   "name": "python",
   "nbconvert_exporter": "python",
   "pygments_lexer": "ipython3",
   "version": "3.7.6"
  }
 },
 "nbformat": 4,
 "nbformat_minor": 4
}
