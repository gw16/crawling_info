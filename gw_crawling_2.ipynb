{
 "cells": [
  {
   "cell_type": "code",
   "execution_count": 1,
   "metadata": {},
   "outputs": [],
   "source": [
    "import pandas as pd\n",
    "import numpy as np\n",
    "import csv\n",
    "\n",
    "#크롤링을 위한 라이브러리\n",
    "import requests\n",
    "from bs4 import BeautifulSoup\n",
    "import re\n",
    "import urllib.request\n",
    "import time\n",
    "from time import sleep"
   ]
  },
  {
   "cell_type": "code",
   "execution_count": 27,
   "metadata": {},
   "outputs": [],
   "source": [
    "url_base ='https://www.wevity.com/?c=find&s=1&gub=1&cidx=21'"
   ]
  },
  {
   "cell_type": "code",
   "execution_count": 28,
   "metadata": {},
   "outputs": [],
   "source": [
    "headers = {'User-Agent':'Mozilla/5.0'} \n",
    "res = requests.get(url_base, headers=headers)\n",
    "soup = BeautifulSoup(res.content.decode('utf-8', 'replace'), 'html.parser')"
   ]
  },
  {
   "cell_type": "code",
   "execution_count": 514,
   "metadata": {},
   "outputs": [],
   "source": [
    "links = []\n",
    "titles = []\n",
    "day_list = []\n",
    "dday = []\n",
    "inst = []\n",
    "dates = []"
   ]
  },
  {
   "cell_type": "code",
   "execution_count": 509,
   "metadata": {},
   "outputs": [],
   "source": [
    "k=1"
   ]
  },
  {
   "cell_type": "code",
   "execution_count": 510,
   "metadata": {
    "scrolled": true
   },
   "outputs": [
    {
     "name": "stdout",
     "output_type": "stream",
     "text": [
      "15\n",
      "15\n"
     ]
    }
   ],
   "source": [
    "while k<=2 :\n",
    "    # 페이지 수 10까지\n",
    "    url= 'https://www.wevity.com/?c=find&s=1&gub=1&cidx=21&gp='+ str(k) \n",
    "\n",
    "    base_url = 'https://www.wevity.com/'\n",
    "    headers = {'User-Agent':'Mozilla/5.0'} \n",
    "    res = requests.get(url, headers=headers)\n",
    "    soup = BeautifulSoup(res.content.decode('utf-8', 'replace'), 'html.parser')\n",
    "    \n",
    "    len_link = len(soup.select('li > .tit > a'))\n",
    "    print(len_link)\n",
    "    for i in range(len_link):\n",
    "#         if soup.select('span.dday')[i].text.replace('\\n','') =='마감':\n",
    "#             break\n",
    "        \n",
    "#        else:\n",
    "        titles.append(soup.select('.tit > a')[i].text)\n",
    "        links.append(base_url + soup.select('li > .tit > a')[i]['href'])\n",
    "#        day_list.append(soup.select('div.day')[i])\n",
    "    \n",
    "    k+=1"
   ]
  },
  {
   "cell_type": "code",
   "execution_count": 483,
   "metadata": {},
   "outputs": [
    {
     "data": {
      "text/plain": [
       "30"
      ]
     },
     "execution_count": 483,
     "metadata": {},
     "output_type": "execute_result"
    }
   ],
   "source": [
    "len(titles)"
   ]
  },
  {
   "cell_type": "code",
   "execution_count": 484,
   "metadata": {},
   "outputs": [
    {
     "data": {
      "text/plain": [
       "30"
      ]
     },
     "execution_count": 484,
     "metadata": {},
     "output_type": "execute_result"
    }
   ],
   "source": [
    "len(links)"
   ]
  },
  {
   "cell_type": "code",
   "execution_count": 485,
   "metadata": {},
   "outputs": [],
   "source": [
    "k = 1"
   ]
  },
  {
   "cell_type": "code",
   "execution_count": 486,
   "metadata": {},
   "outputs": [
    {
     "name": "stdout",
     "output_type": "stream",
     "text": [
      "16\n",
      "16\n"
     ]
    }
   ],
   "source": [
    "while k<=2 :\n",
    "    url= 'https://www.wevity.com/?c=find&s=1&gub=1&cidx=21&gp='+ str(k) \n",
    "    base_url = 'https://www.wevity.com/'\n",
    "    headers = {'User-Agent':'Mozilla/5.0'} \n",
    "    res = requests.get(url, headers=headers)\n",
    "    soup = BeautifulSoup(res.content.decode('utf-8', 'replace'), 'html.parser')\n",
    "    len_link = len(soup.select('div.day'))\n",
    "    print(len_link)\n",
    "    for i in range(len_link):\n",
    "        day_list.append(soup.select('div.day')[i])\n",
    "    \n",
    "    k+=1"
   ]
  },
  {
   "cell_type": "code",
   "execution_count": 487,
   "metadata": {},
   "outputs": [
    {
     "name": "stdout",
     "output_type": "stream",
     "text": [
      "\r\n",
      "\t\t\t\t\t현재현황\r\n",
      "\t\t\t\t\n",
      "\r\n",
      "\t\t\t\t\t\t\tD-66\t\t\t\t\t\t\t접수중\n",
      "\n",
      "\r\n",
      "\t\t\t\t\t\t\tD-0\t\t\t\t\t\t\t마감임박\n",
      "\n",
      "\r\n",
      "\t\t\t\t\t\t\tD+11\t\t\t\t\t\t\t마감\n",
      "\n",
      "\r\n",
      "\t\t\t\t\t\t\tD+35\t\t\t\t\t\t\t마감\n",
      "\n",
      "\r\n",
      "\t\t\t\t\t\t\tD+46\t\t\t\t\t\t\t마감\n",
      "\n",
      "\r\n",
      "\t\t\t\t\t\t\tD+60\t\t\t\t\t\t\t마감\n",
      "\n",
      "\r\n",
      "\t\t\t\t\t\t\tD+55\t\t\t\t\t\t\t마감\n",
      "\n",
      "\r\n",
      "\t\t\t\t\t\t\tD+46\t\t\t\t\t\t\t마감\n",
      "\n",
      "\r\n",
      "\t\t\t\t\t\t\tD+70\t\t\t\t\t\t\t마감\n",
      "\n",
      "\r\n",
      "\t\t\t\t\t\t\tD+53\t\t\t\t\t\t\t마감\n",
      "\n",
      "\r\n",
      "\t\t\t\t\t\t\tD+77\t\t\t\t\t\t\t마감\n",
      "\n",
      "\r\n",
      "\t\t\t\t\t\t\tD+37\t\t\t\t\t\t\t마감\n",
      "\n",
      "\r\n",
      "\t\t\t\t\t\t\tD+75\t\t\t\t\t\t\t마감\n",
      "\n",
      "\r\n",
      "\t\t\t\t\t\t\tD+64\t\t\t\t\t\t\t마감\n",
      "\n",
      "\r\n",
      "\t\t\t\t\t\t\tD+93\t\t\t\t\t\t\t마감\n",
      "\n",
      "\r\n",
      "\t\t\t\t\t현재현황\r\n",
      "\t\t\t\t\n",
      "\r\n",
      "\t\t\t\t\t\t\tD+95\t\t\t\t\t\t\t마감\n",
      "\n",
      "\r\n",
      "\t\t\t\t\t\t\tD+96\t\t\t\t\t\t\t마감\n",
      "\n",
      "\r\n",
      "\t\t\t\t\t\t\tD+95\t\t\t\t\t\t\t마감\n",
      "\n",
      "\r\n",
      "\t\t\t\t\t\t\tD+49\t\t\t\t\t\t\t마감\n",
      "\n",
      "\r\n",
      "\t\t\t\t\t\t\tD+106\t\t\t\t\t\t\t마감\n",
      "\n",
      "\r\n",
      "\t\t\t\t\t\t\tD+108\t\t\t\t\t\t\t마감\n",
      "\n",
      "\r\n",
      "\t\t\t\t\t\t\tD+70\t\t\t\t\t\t\t마감\n",
      "\n",
      "\r\n",
      "\t\t\t\t\t\t\tD+48\t\t\t\t\t\t\t마감\n",
      "\n",
      "\r\n",
      "\t\t\t\t\t\t\tD+108\t\t\t\t\t\t\t마감\n",
      "\n",
      "\r\n",
      "\t\t\t\t\t\t\tD+55\t\t\t\t\t\t\t마감\n",
      "\n",
      "\r\n",
      "\t\t\t\t\t\t\tD+124\t\t\t\t\t\t\t마감\n",
      "\n",
      "\r\n",
      "\t\t\t\t\t\t\tD+124\t\t\t\t\t\t\t마감\n",
      "\n",
      "\r\n",
      "\t\t\t\t\t\t\tD+141\t\t\t\t\t\t\t마감\n",
      "\n",
      "\r\n",
      "\t\t\t\t\t\t\tD+93\t\t\t\t\t\t\t마감\n",
      "\n",
      "\r\n",
      "\t\t\t\t\t\t\tD+142\t\t\t\t\t\t\t마감\n",
      "\n"
     ]
    }
   ],
   "source": [
    "for i in range(len(day_list)):\n",
    "    print(day_list[i].text)"
   ]
  },
  {
   "cell_type": "code",
   "execution_count": 488,
   "metadata": {},
   "outputs": [
    {
     "ename": "IndexError",
     "evalue": "list index out of range",
     "output_type": "error",
     "traceback": [
      "\u001b[1;31m---------------------------------------------------------------------------\u001b[0m",
      "\u001b[1;31mIndexError\u001b[0m                                Traceback (most recent call last)",
      "\u001b[1;32m<ipython-input-488-e93e827107fb>\u001b[0m in \u001b[0;36m<module>\u001b[1;34m\u001b[0m\n\u001b[0;32m      1\u001b[0m \u001b[1;32mfor\u001b[0m \u001b[0mi\u001b[0m \u001b[1;32min\u001b[0m \u001b[0mrange\u001b[0m\u001b[1;33m(\u001b[0m\u001b[0mlen\u001b[0m\u001b[1;33m(\u001b[0m\u001b[0mday_list\u001b[0m\u001b[1;33m)\u001b[0m\u001b[1;33m)\u001b[0m\u001b[1;33m:\u001b[0m\u001b[1;33m\u001b[0m\u001b[1;33m\u001b[0m\u001b[0m\n\u001b[1;32m----> 2\u001b[1;33m     \u001b[1;32mif\u001b[0m \u001b[1;34m\"현재\"\u001b[0m \u001b[1;32min\u001b[0m \u001b[0mday_list\u001b[0m\u001b[1;33m[\u001b[0m\u001b[0mi\u001b[0m\u001b[1;33m]\u001b[0m\u001b[1;33m.\u001b[0m\u001b[0mtext\u001b[0m\u001b[1;33m:\u001b[0m\u001b[1;33m\u001b[0m\u001b[1;33m\u001b[0m\u001b[0m\n\u001b[0m\u001b[0;32m      3\u001b[0m         \u001b[1;32mdel\u001b[0m \u001b[0mday_list\u001b[0m\u001b[1;33m[\u001b[0m\u001b[0mi\u001b[0m\u001b[1;33m]\u001b[0m\u001b[1;33m\u001b[0m\u001b[1;33m\u001b[0m\u001b[0m\n",
      "\u001b[1;31mIndexError\u001b[0m: list index out of range"
     ]
    }
   ],
   "source": [
    "for i in range(len(day_list)):\n",
    "    if \"현재\" in day_list[i].text:\n",
    "        del day_list[i]     "
   ]
  },
  {
   "cell_type": "code",
   "execution_count": 489,
   "metadata": {},
   "outputs": [
    {
     "name": "stdout",
     "output_type": "stream",
     "text": [
      "\r\n",
      "\t\t\t\t\t\t\tD-66\t\t\t\t\t\t\t접수중\n",
      "\n",
      "\r\n",
      "\t\t\t\t\t\t\tD-0\t\t\t\t\t\t\t마감임박\n",
      "\n",
      "\r\n",
      "\t\t\t\t\t\t\tD+11\t\t\t\t\t\t\t마감\n",
      "\n",
      "\r\n",
      "\t\t\t\t\t\t\tD+35\t\t\t\t\t\t\t마감\n",
      "\n",
      "\r\n",
      "\t\t\t\t\t\t\tD+46\t\t\t\t\t\t\t마감\n",
      "\n",
      "\r\n",
      "\t\t\t\t\t\t\tD+60\t\t\t\t\t\t\t마감\n",
      "\n",
      "\r\n",
      "\t\t\t\t\t\t\tD+55\t\t\t\t\t\t\t마감\n",
      "\n",
      "\r\n",
      "\t\t\t\t\t\t\tD+46\t\t\t\t\t\t\t마감\n",
      "\n",
      "\r\n",
      "\t\t\t\t\t\t\tD+70\t\t\t\t\t\t\t마감\n",
      "\n",
      "\r\n",
      "\t\t\t\t\t\t\tD+53\t\t\t\t\t\t\t마감\n",
      "\n",
      "\r\n",
      "\t\t\t\t\t\t\tD+77\t\t\t\t\t\t\t마감\n",
      "\n",
      "\r\n",
      "\t\t\t\t\t\t\tD+37\t\t\t\t\t\t\t마감\n",
      "\n",
      "\r\n",
      "\t\t\t\t\t\t\tD+75\t\t\t\t\t\t\t마감\n",
      "\n",
      "\r\n",
      "\t\t\t\t\t\t\tD+64\t\t\t\t\t\t\t마감\n",
      "\n",
      "\r\n",
      "\t\t\t\t\t\t\tD+93\t\t\t\t\t\t\t마감\n",
      "\n",
      "\r\n",
      "\t\t\t\t\t\t\tD+95\t\t\t\t\t\t\t마감\n",
      "\n",
      "\r\n",
      "\t\t\t\t\t\t\tD+96\t\t\t\t\t\t\t마감\n",
      "\n",
      "\r\n",
      "\t\t\t\t\t\t\tD+95\t\t\t\t\t\t\t마감\n",
      "\n",
      "\r\n",
      "\t\t\t\t\t\t\tD+49\t\t\t\t\t\t\t마감\n",
      "\n",
      "\r\n",
      "\t\t\t\t\t\t\tD+106\t\t\t\t\t\t\t마감\n",
      "\n",
      "\r\n",
      "\t\t\t\t\t\t\tD+108\t\t\t\t\t\t\t마감\n",
      "\n",
      "\r\n",
      "\t\t\t\t\t\t\tD+70\t\t\t\t\t\t\t마감\n",
      "\n",
      "\r\n",
      "\t\t\t\t\t\t\tD+48\t\t\t\t\t\t\t마감\n",
      "\n",
      "\r\n",
      "\t\t\t\t\t\t\tD+108\t\t\t\t\t\t\t마감\n",
      "\n",
      "\r\n",
      "\t\t\t\t\t\t\tD+55\t\t\t\t\t\t\t마감\n",
      "\n",
      "\r\n",
      "\t\t\t\t\t\t\tD+124\t\t\t\t\t\t\t마감\n",
      "\n",
      "\r\n",
      "\t\t\t\t\t\t\tD+124\t\t\t\t\t\t\t마감\n",
      "\n",
      "\r\n",
      "\t\t\t\t\t\t\tD+141\t\t\t\t\t\t\t마감\n",
      "\n",
      "\r\n",
      "\t\t\t\t\t\t\tD+93\t\t\t\t\t\t\t마감\n",
      "\n",
      "\r\n",
      "\t\t\t\t\t\t\tD+142\t\t\t\t\t\t\t마감\n",
      "\n"
     ]
    }
   ],
   "source": [
    "for i in range(len(day_list)):\n",
    "    print(day_list[i].text)"
   ]
  },
  {
   "cell_type": "code",
   "execution_count": 490,
   "metadata": {},
   "outputs": [],
   "source": [
    "for i in range(len(day_list)):\n",
    "    dday.append(day_list[i].text.replace('\\n','').replace('\\t','').replace('\\r',''))"
   ]
  },
  {
   "cell_type": "code",
   "execution_count": 491,
   "metadata": {
    "scrolled": true
   },
   "outputs": [
    {
     "data": {
      "text/plain": [
       "['D-66접수중',\n",
       " 'D-0마감임박',\n",
       " 'D+11마감',\n",
       " 'D+35마감',\n",
       " 'D+46마감',\n",
       " 'D+60마감',\n",
       " 'D+55마감',\n",
       " 'D+46마감',\n",
       " 'D+70마감',\n",
       " 'D+53마감',\n",
       " 'D+77마감',\n",
       " 'D+37마감',\n",
       " 'D+75마감',\n",
       " 'D+64마감',\n",
       " 'D+93마감',\n",
       " 'D+95마감',\n",
       " 'D+96마감',\n",
       " 'D+95마감',\n",
       " 'D+49마감',\n",
       " 'D+106마감',\n",
       " 'D+108마감',\n",
       " 'D+70마감',\n",
       " 'D+48마감',\n",
       " 'D+108마감',\n",
       " 'D+55마감',\n",
       " 'D+124마감',\n",
       " 'D+124마감',\n",
       " 'D+141마감',\n",
       " 'D+93마감',\n",
       " 'D+142마감']"
      ]
     },
     "execution_count": 491,
     "metadata": {},
     "output_type": "execute_result"
    }
   ],
   "source": [
    "dday"
   ]
  },
  {
   "cell_type": "code",
   "execution_count": 493,
   "metadata": {},
   "outputs": [
    {
     "data": {
      "text/plain": [
       "30"
      ]
     },
     "execution_count": 493,
     "metadata": {},
     "output_type": "execute_result"
    }
   ],
   "source": [
    "len(dday)"
   ]
  },
  {
   "cell_type": "code",
   "execution_count": 515,
   "metadata": {},
   "outputs": [
    {
     "name": "stdout",
     "output_type": "stream",
     "text": [
      "16\n",
      "16\n"
     ]
    }
   ],
   "source": [
    "#주최\n",
    "# 해당 공모전 페이지 안에 들어가서 구함\n",
    "# for i in range(len(links)):\n",
    "#     headers = {'User-Agent':'Mozilla/5.0'} \n",
    "#     res = requests.get(links[i], headers=headers)\n",
    "#     soup = BeautifulSoup(res.content.decode('utf-8', 'replace'), 'html.parser')\n",
    "#     inst.append(soup.select('div.organ')[i].text)\n",
    "    \n",
    "    \n",
    "k = 1    \n",
    "while k<=2 :\n",
    "    url= 'https://www.wevity.com/?c=find&s=1&gub=1&cidx=21&gp='+ str(k) \n",
    "    base_url = 'https://www.wevity.com/'\n",
    "    headers = {'User-Agent':'Mozilla/5.0'} \n",
    "    res = requests.get(url, headers=headers)\n",
    "    soup = BeautifulSoup(res.content.decode('utf-8', 'replace'), 'html.parser')\n",
    "    len_link = len(soup.select('div.organ'))\n",
    "    print(len_link)\n",
    "    for i in range(len_link):\n",
    "        inst.append(soup.select('div.organ')[i].text)\n",
    "    \n",
    "    k+=1    "
   ]
  },
  {
   "cell_type": "code",
   "execution_count": 518,
   "metadata": {
    "scrolled": true
   },
   "outputs": [
    {
     "data": {
      "text/plain": [
       "['주최사',\n",
       " '다이아에그',\n",
       " '한국지능정보사회진흥원',\n",
       " '제주특별자치도',\n",
       " '오아시스 해커톤 운영팀',\n",
       " '과학기술정보통신부',\n",
       " 'KB국민은행',\n",
       " '한화드림플러스',\n",
       " '네이버 커넥트재단',\n",
       " '강원대학교올림픽연구센터',\n",
       " '대한상공회의소 인력개발원',\n",
       " '한국정보화진흥원',\n",
       " '심심이(주)',\n",
       " '과학기술정보통신부',\n",
       " '한국화웨이',\n",
       " '삼성SDS, JA Korea',\n",
       " '주최사',\n",
       " '경기도청소년활동진흥센터',\n",
       " '비씨카드',\n",
       " '과학기술정보통신부',\n",
       " '과학기술정보통신부, 국회도서관',\n",
       " '포항공대 OIBC, HEnergy',\n",
       " '성균관대 캠퍼스타운',\n",
       " '산림청',\n",
       " '민주평화통일자문위원회의 부산기장군협의회',\n",
       " '과학기술정보통신부',\n",
       " '하나금융그룹',\n",
       " '더존비즈온, 강원대학교 빅데이터∙융합보안사업단',\n",
       " '(주) 콩스튜디오코리아',\n",
       " '은평구청',\n",
       " '과학기술정보통신부',\n",
       " '(재)전북문화콘텐츠산업진흥원']"
      ]
     },
     "execution_count": 518,
     "metadata": {},
     "output_type": "execute_result"
    }
   ],
   "source": [
    "inst"
   ]
  },
  {
   "cell_type": "code",
   "execution_count": 520,
   "metadata": {},
   "outputs": [
    {
     "name": "stdout",
     "output_type": "stream",
     "text": [
      "다이아에그\n",
      "한국지능정보사회진흥원\n",
      "제주특별자치도\n",
      "오아시스 해커톤 운영팀\n",
      "과학기술정보통신부\n",
      "KB국민은행\n",
      "한화드림플러스\n",
      "네이버 커넥트재단\n",
      "강원대학교올림픽연구센터\n",
      "대한상공회의소 인력개발원\n",
      "한국정보화진흥원\n",
      "심심이(주)\n",
      "과학기술정보통신부\n",
      "한국화웨이\n",
      "삼성SDS, JA Korea\n",
      "경기도청소년활동진흥센터\n",
      "비씨카드\n",
      "과학기술정보통신부\n",
      "과학기술정보통신부, 국회도서관\n",
      "포항공대 OIBC, HEnergy\n",
      "성균관대 캠퍼스타운\n",
      "산림청\n",
      "민주평화통일자문위원회의 부산기장군협의회\n",
      "과학기술정보통신부\n",
      "하나금융그룹\n",
      "더존비즈온, 강원대학교 빅데이터∙융합보안사업단\n",
      "(주) 콩스튜디오코리아\n",
      "은평구청\n",
      "과학기술정보통신부\n",
      "(재)전북문화콘텐츠산업진흥원\n"
     ]
    }
   ],
   "source": [
    "for i in range(len(inst)):\n",
    "    print(inst[i])"
   ]
  },
  {
   "cell_type": "code",
   "execution_count": 522,
   "metadata": {},
   "outputs": [
    {
     "data": {
      "text/plain": [
       "30"
      ]
     },
     "execution_count": 522,
     "metadata": {},
     "output_type": "execute_result"
    }
   ],
   "source": [
    "len(inst)"
   ]
  },
  {
   "cell_type": "code",
   "execution_count": 519,
   "metadata": {},
   "outputs": [
    {
     "ename": "IndexError",
     "evalue": "list index out of range",
     "output_type": "error",
     "traceback": [
      "\u001b[1;31m---------------------------------------------------------------------------\u001b[0m",
      "\u001b[1;31mIndexError\u001b[0m                                Traceback (most recent call last)",
      "\u001b[1;32m<ipython-input-519-09b4bb3b154e>\u001b[0m in \u001b[0;36m<module>\u001b[1;34m\u001b[0m\n\u001b[0;32m      1\u001b[0m \u001b[1;32mfor\u001b[0m \u001b[0mi\u001b[0m \u001b[1;32min\u001b[0m \u001b[0mrange\u001b[0m\u001b[1;33m(\u001b[0m\u001b[0mlen\u001b[0m\u001b[1;33m(\u001b[0m\u001b[0minst\u001b[0m\u001b[1;33m)\u001b[0m\u001b[1;33m)\u001b[0m\u001b[1;33m:\u001b[0m\u001b[1;33m\u001b[0m\u001b[1;33m\u001b[0m\u001b[0m\n\u001b[1;32m----> 2\u001b[1;33m     \u001b[1;32mif\u001b[0m \u001b[1;34m\"주최사\"\u001b[0m \u001b[1;32min\u001b[0m \u001b[0minst\u001b[0m\u001b[1;33m[\u001b[0m\u001b[0mi\u001b[0m\u001b[1;33m]\u001b[0m\u001b[1;33m:\u001b[0m\u001b[1;33m\u001b[0m\u001b[1;33m\u001b[0m\u001b[0m\n\u001b[0m\u001b[0;32m      3\u001b[0m         \u001b[1;32mdel\u001b[0m \u001b[0minst\u001b[0m\u001b[1;33m[\u001b[0m\u001b[0mi\u001b[0m\u001b[1;33m]\u001b[0m\u001b[1;33m\u001b[0m\u001b[1;33m\u001b[0m\u001b[0m\n",
      "\u001b[1;31mIndexError\u001b[0m: list index out of range"
     ]
    }
   ],
   "source": [
    "for i in range(len(inst)):\n",
    "    if \"주최사\" in inst[i]:\n",
    "        del inst[i]    "
   ]
  },
  {
   "cell_type": "code",
   "execution_count": null,
   "metadata": {},
   "outputs": [],
   "source": []
  },
  {
   "cell_type": "code",
   "execution_count": null,
   "metadata": {},
   "outputs": [],
   "source": []
  },
  {
   "cell_type": "code",
   "execution_count": 12,
   "metadata": {},
   "outputs": [],
   "source": [
    "tabl_data = {'제목': titles, \n",
    "            '날짜': dday,\n",
    "            '기관':inst,\n",
    "            '링크':links}"
   ]
  },
  {
   "cell_type": "code",
   "execution_count": 13,
   "metadata": {},
   "outputs": [
    {
     "ename": "ValueError",
     "evalue": "arrays must all be same length",
     "output_type": "error",
     "traceback": [
      "\u001b[1;31m---------------------------------------------------------------------------\u001b[0m",
      "\u001b[1;31mValueError\u001b[0m                                Traceback (most recent call last)",
      "\u001b[1;32m<ipython-input-13-13c592ff2b22>\u001b[0m in \u001b[0;36m<module>\u001b[1;34m\u001b[0m\n\u001b[1;32m----> 1\u001b[1;33m \u001b[0mdf\u001b[0m \u001b[1;33m=\u001b[0m \u001b[0mpd\u001b[0m\u001b[1;33m.\u001b[0m\u001b[0mDataFrame\u001b[0m\u001b[1;33m(\u001b[0m\u001b[0mtabl_data\u001b[0m\u001b[1;33m,\u001b[0m \u001b[0mcolumns\u001b[0m\u001b[1;33m=\u001b[0m\u001b[1;33m[\u001b[0m\u001b[1;34m'제목'\u001b[0m\u001b[1;33m,\u001b[0m\u001b[1;34m'날짜'\u001b[0m\u001b[1;33m,\u001b[0m\u001b[1;34m'기관'\u001b[0m\u001b[1;33m,\u001b[0m\u001b[1;34m'링크'\u001b[0m\u001b[1;33m]\u001b[0m\u001b[1;33m)\u001b[0m\u001b[1;33m\u001b[0m\u001b[1;33m\u001b[0m\u001b[0m\n\u001b[0m",
      "\u001b[1;32m~\\anaconda3\\lib\\site-packages\\pandas\\core\\frame.py\u001b[0m in \u001b[0;36m__init__\u001b[1;34m(self, data, index, columns, dtype, copy)\u001b[0m\n\u001b[0;32m    465\u001b[0m \u001b[1;33m\u001b[0m\u001b[0m\n\u001b[0;32m    466\u001b[0m         \u001b[1;32melif\u001b[0m \u001b[0misinstance\u001b[0m\u001b[1;33m(\u001b[0m\u001b[0mdata\u001b[0m\u001b[1;33m,\u001b[0m \u001b[0mdict\u001b[0m\u001b[1;33m)\u001b[0m\u001b[1;33m:\u001b[0m\u001b[1;33m\u001b[0m\u001b[1;33m\u001b[0m\u001b[0m\n\u001b[1;32m--> 467\u001b[1;33m             \u001b[0mmgr\u001b[0m \u001b[1;33m=\u001b[0m \u001b[0minit_dict\u001b[0m\u001b[1;33m(\u001b[0m\u001b[0mdata\u001b[0m\u001b[1;33m,\u001b[0m \u001b[0mindex\u001b[0m\u001b[1;33m,\u001b[0m \u001b[0mcolumns\u001b[0m\u001b[1;33m,\u001b[0m \u001b[0mdtype\u001b[0m\u001b[1;33m=\u001b[0m\u001b[0mdtype\u001b[0m\u001b[1;33m)\u001b[0m\u001b[1;33m\u001b[0m\u001b[1;33m\u001b[0m\u001b[0m\n\u001b[0m\u001b[0;32m    468\u001b[0m         \u001b[1;32melif\u001b[0m \u001b[0misinstance\u001b[0m\u001b[1;33m(\u001b[0m\u001b[0mdata\u001b[0m\u001b[1;33m,\u001b[0m \u001b[0mma\u001b[0m\u001b[1;33m.\u001b[0m\u001b[0mMaskedArray\u001b[0m\u001b[1;33m)\u001b[0m\u001b[1;33m:\u001b[0m\u001b[1;33m\u001b[0m\u001b[1;33m\u001b[0m\u001b[0m\n\u001b[0;32m    469\u001b[0m             \u001b[1;32mimport\u001b[0m \u001b[0mnumpy\u001b[0m\u001b[1;33m.\u001b[0m\u001b[0mma\u001b[0m\u001b[1;33m.\u001b[0m\u001b[0mmrecords\u001b[0m \u001b[1;32mas\u001b[0m \u001b[0mmrecords\u001b[0m\u001b[1;33m\u001b[0m\u001b[1;33m\u001b[0m\u001b[0m\n",
      "\u001b[1;32m~\\anaconda3\\lib\\site-packages\\pandas\\core\\internals\\construction.py\u001b[0m in \u001b[0;36minit_dict\u001b[1;34m(data, index, columns, dtype)\u001b[0m\n\u001b[0;32m    252\u001b[0m             \u001b[1;31m# GH10856\u001b[0m\u001b[1;33m\u001b[0m\u001b[1;33m\u001b[0m\u001b[1;33m\u001b[0m\u001b[0m\n\u001b[0;32m    253\u001b[0m             \u001b[1;31m# raise ValueError if only scalars in dict\u001b[0m\u001b[1;33m\u001b[0m\u001b[1;33m\u001b[0m\u001b[1;33m\u001b[0m\u001b[0m\n\u001b[1;32m--> 254\u001b[1;33m             \u001b[0mindex\u001b[0m \u001b[1;33m=\u001b[0m \u001b[0mextract_index\u001b[0m\u001b[1;33m(\u001b[0m\u001b[0marrays\u001b[0m\u001b[1;33m[\u001b[0m\u001b[1;33m~\u001b[0m\u001b[0mmissing\u001b[0m\u001b[1;33m]\u001b[0m\u001b[1;33m)\u001b[0m\u001b[1;33m\u001b[0m\u001b[1;33m\u001b[0m\u001b[0m\n\u001b[0m\u001b[0;32m    255\u001b[0m         \u001b[1;32melse\u001b[0m\u001b[1;33m:\u001b[0m\u001b[1;33m\u001b[0m\u001b[1;33m\u001b[0m\u001b[0m\n\u001b[0;32m    256\u001b[0m             \u001b[0mindex\u001b[0m \u001b[1;33m=\u001b[0m \u001b[0mensure_index\u001b[0m\u001b[1;33m(\u001b[0m\u001b[0mindex\u001b[0m\u001b[1;33m)\u001b[0m\u001b[1;33m\u001b[0m\u001b[1;33m\u001b[0m\u001b[0m\n",
      "\u001b[1;32m~\\anaconda3\\lib\\site-packages\\pandas\\core\\internals\\construction.py\u001b[0m in \u001b[0;36mextract_index\u001b[1;34m(data)\u001b[0m\n\u001b[0;32m    395\u001b[0m             \u001b[0mlengths\u001b[0m \u001b[1;33m=\u001b[0m \u001b[0mlist\u001b[0m\u001b[1;33m(\u001b[0m\u001b[0mset\u001b[0m\u001b[1;33m(\u001b[0m\u001b[0mraw_lengths\u001b[0m\u001b[1;33m)\u001b[0m\u001b[1;33m)\u001b[0m\u001b[1;33m\u001b[0m\u001b[1;33m\u001b[0m\u001b[0m\n\u001b[0;32m    396\u001b[0m             \u001b[1;32mif\u001b[0m \u001b[0mlen\u001b[0m\u001b[1;33m(\u001b[0m\u001b[0mlengths\u001b[0m\u001b[1;33m)\u001b[0m \u001b[1;33m>\u001b[0m \u001b[1;36m1\u001b[0m\u001b[1;33m:\u001b[0m\u001b[1;33m\u001b[0m\u001b[1;33m\u001b[0m\u001b[0m\n\u001b[1;32m--> 397\u001b[1;33m                 \u001b[1;32mraise\u001b[0m \u001b[0mValueError\u001b[0m\u001b[1;33m(\u001b[0m\u001b[1;34m\"arrays must all be same length\"\u001b[0m\u001b[1;33m)\u001b[0m\u001b[1;33m\u001b[0m\u001b[1;33m\u001b[0m\u001b[0m\n\u001b[0m\u001b[0;32m    398\u001b[0m \u001b[1;33m\u001b[0m\u001b[0m\n\u001b[0;32m    399\u001b[0m             \u001b[1;32mif\u001b[0m \u001b[0mhave_dicts\u001b[0m\u001b[1;33m:\u001b[0m\u001b[1;33m\u001b[0m\u001b[1;33m\u001b[0m\u001b[0m\n",
      "\u001b[1;31mValueError\u001b[0m: arrays must all be same length"
     ]
    }
   ],
   "source": [
    "df = pd.DataFrame(tabl_data, columns=['제목','날짜','기관','링크'])  "
   ]
  },
  {
   "cell_type": "code",
   "execution_count": 14,
   "metadata": {},
   "outputs": [
    {
     "ename": "NameError",
     "evalue": "name 'df' is not defined",
     "output_type": "error",
     "traceback": [
      "\u001b[1;31m---------------------------------------------------------------------------\u001b[0m",
      "\u001b[1;31mNameError\u001b[0m                                 Traceback (most recent call last)",
      "\u001b[1;32m<ipython-input-14-00cf07b74dcd>\u001b[0m in \u001b[0;36m<module>\u001b[1;34m\u001b[0m\n\u001b[1;32m----> 1\u001b[1;33m \u001b[0mdf\u001b[0m\u001b[1;33m\u001b[0m\u001b[1;33m\u001b[0m\u001b[0m\n\u001b[0m",
      "\u001b[1;31mNameError\u001b[0m: name 'df' is not defined"
     ]
    }
   ],
   "source": [
    "df"
   ]
  },
  {
   "cell_type": "code",
   "execution_count": 11,
   "metadata": {},
   "outputs": [],
   "source": [
    "df.to_csv('thinkgood_210120.csv', encoding='utf-8-sig')"
   ]
  }
 ],
 "metadata": {
  "kernelspec": {
   "display_name": "Python 3",
   "language": "python",
   "name": "python3"
  },
  "language_info": {
   "codemirror_mode": {
    "name": "ipython",
    "version": 3
   },
   "file_extension": ".py",
   "mimetype": "text/x-python",
   "name": "python",
   "nbconvert_exporter": "python",
   "pygments_lexer": "ipython3",
   "version": "3.7.6"
  }
 },
 "nbformat": 4,
 "nbformat_minor": 4
}
