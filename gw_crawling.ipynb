{
 "cells": [
  {
   "cell_type": "code",
   "execution_count": 87,
   "metadata": {},
   "outputs": [],
   "source": [
    "import pandas as pd\n",
    "import numpy as np\n",
    "import csv\n",
    "\n",
    "#크롤링을 위한 라이브러리\n",
    "import requests\n",
    "from bs4 import BeautifulSoup\n",
    "import re\n",
    "import urllib.request\n",
    "import time\n",
    "from time import sleep\n",
    "\n",
    "from selenium.webdriver import Chrome   \n",
    "from selenium.webdriver.chrome.options import Options\n",
    "from selenium.webdriver.common.keys import Keys\n",
    "from selenium import webdriver"
   ]
  },
  {
   "cell_type": "code",
   "execution_count": 213,
   "metadata": {},
   "outputs": [],
   "source": [
    "url ='https://www.wevity.com/?c=find&s=1&gub=1&cidx=21'"
   ]
  },
  {
   "cell_type": "code",
   "execution_count": 214,
   "metadata": {},
   "outputs": [],
   "source": [
    "delay=3\n",
    "browser = Chrome(r\"C:\\chromedriver.exe\")\n",
    "browser.implicitly_wait(delay)"
   ]
  },
  {
   "cell_type": "code",
   "execution_count": 215,
   "metadata": {},
   "outputs": [],
   "source": [
    "browser.get(url)  \n",
    "browser.maximize_window()"
   ]
  },
  {
   "cell_type": "code",
   "execution_count": 251,
   "metadata": {},
   "outputs": [],
   "source": [
    "body = browser.find_element_by_tag_name('body')"
   ]
  },
  {
   "cell_type": "code",
   "execution_count": 252,
   "metadata": {},
   "outputs": [
    {
     "data": {
      "text/plain": [
       "<selenium.webdriver.remote.webelement.WebElement (session=\"7fecb09c4719dcff9b1d932bfa698279\", element=\"920befe1-ad76-4b49-9bcc-17190e0367a2\")>"
      ]
     },
     "execution_count": 252,
     "metadata": {},
     "output_type": "execute_result"
    }
   ],
   "source": [
    "body"
   ]
  },
  {
   "cell_type": "code",
   "execution_count": 205,
   "metadata": {},
   "outputs": [],
   "source": [
    "k=1\n",
    "dday_list=[]\n",
    "links = []\n",
    "titles = []\n",
    "dday = []\n",
    "inst = []\n",
    "dates = []"
   ]
  },
  {
   "cell_type": "code",
   "execution_count": 201,
   "metadata": {},
   "outputs": [],
   "source": [
    "while k<=10 :\n",
    "    # 페이지 수 10까지\n",
    "    url= 'https://www.wevity.com/?c=find&s=1&gub=1&cidx=21&gp='+ str(k) \n",
    "\n",
    "    base_url = 'https://www.wevity.com/'\n",
    "    headers = {'User-Agent':'Mozilla/5.0'} \n",
    "    res = requests.get(url, headers=headers)\n",
    "    soup = BeautifulSoup(res.content.decode('utf-8', 'replace'), 'html.parser')\n",
    "    \n",
    "    len_link = len(soup.select(' .bg > .tit > a'))\n",
    "    print(len_link)\n",
    "    for i in range(len_link):\n",
    "        if soup.select('span.dday')[i].text.replace('\\n','') =='마감':\n",
    "            break\n",
    "        \n",
    "        else:\n",
    "            titles.append(soup.select(' .bg > .tit > a')[i].text)\n",
    "            links.append(base_url + soup.select(' .bg > .tit > a')[i]['href'])\n",
    "            dday.append(soup.select('div.day')[i].text.replace('\\n',''))\n",
    "    \n",
    "    k+=1"
   ]
  },
  {
   "cell_type": "code",
   "execution_count": 248,
   "metadata": {},
   "outputs": [
    {
     "data": {
      "text/plain": [
       "[<li>\n",
       " <a href=\"https://www.facebook.com/wevity/app/215318915472632/\" target=\"new\"><img alt=\"페이스북가기\" src=\"images/btn_facebook.png\"/></a>\n",
       " </li>,\n",
       " <li class=\"l\">\n",
       " <a href=\"./\" target=\"new\"><img alt=\"트위터가기\" src=\"images/btn_twitter.png\"/></a>\n",
       " </li>,\n",
       " <li class=\"f on\">\n",
       " <a href=\"?c=find\">공모전</a>\n",
       " </li>,\n",
       " <li>\n",
       " <a href=\"?c=idea\">공모전전략</a>\n",
       " </li>,\n",
       " <li>\n",
       " <a href=\"?c=active\">대외활동</a>\n",
       " </li>,\n",
       " <li>\n",
       " <a href=\"?c=event\">이벤트참여</a>\n",
       " </li>,\n",
       " <li class=\"l\">\n",
       " <a href=\"?c=comm\">공모전자료</a>\n",
       " </li>,\n",
       " <li class=\"on\">\n",
       " <a href=\"?c=find&amp;s=1&amp;gub=1\">전체 공모전</a>\n",
       " </li>,\n",
       " <li class=\"on\">\n",
       " <a href=\"?c=find&amp;s=1&amp;gub=1&amp;cidx=1\">기획/아이디어</a>\n",
       " </li>,\n",
       " <li class=\"on\">\n",
       " <a href=\"?c=find&amp;s=1&amp;gub=1&amp;cidx=2\">광고/마케팅</a>\n",
       " </li>,\n",
       " <li class=\"on\">\n",
       " <a href=\"?c=find&amp;s=1&amp;gub=1&amp;cidx=3\">논문/리포트</a>\n",
       " </li>,\n",
       " <li class=\"on\">\n",
       " <a href=\"?c=find&amp;s=1&amp;gub=1&amp;cidx=10\">영상/UCC/사진</a>\n",
       " </li>,\n",
       " <li class=\"on\">\n",
       " <a href=\"?c=find&amp;s=1&amp;gub=1&amp;cidx=19\">디자인/캐릭터/웹툰</a>\n",
       " </li>,\n",
       " <li class=\"on\">\n",
       " <a href=\"?c=find&amp;s=1&amp;gub=1&amp;cidx=20\">웹/모바일/플래시</a>\n",
       " </li>,\n",
       " <li class=\"on\">\n",
       " <a href=\"?c=find&amp;s=1&amp;gub=1&amp;cidx=21\">게임/소프트웨어</a>\n",
       " </li>,\n",
       " <li class=\"on\">\n",
       " <a href=\"?c=find&amp;s=1&amp;gub=1&amp;cidx=22\">과학/공학</a>\n",
       " </li>,\n",
       " <li class=\"on\">\n",
       " <a href=\"?c=find&amp;s=1&amp;gub=1&amp;cidx=23\">문학/글/시나리오</a>\n",
       " </li>,\n",
       " <li class=\"on\">\n",
       " <a href=\"?c=find&amp;s=1&amp;gub=1&amp;cidx=24\">건축/건설/인테리어</a>\n",
       " </li>,\n",
       " <li class=\"on\">\n",
       " <a href=\"?c=find&amp;s=1&amp;gub=1&amp;cidx=25\">네이밍/슬로건</a>\n",
       " </li>,\n",
       " <li class=\"on\">\n",
       " <a href=\"?c=find&amp;s=1&amp;gub=1&amp;cidx=26\">예체능/미술/음악</a>\n",
       " </li>,\n",
       " <li class=\"on\">\n",
       " <a href=\"?c=find&amp;s=1&amp;gub=1&amp;cidx=27\">대외활동/서포터즈</a>\n",
       " </li>,\n",
       " <li class=\"on\">\n",
       " <a href=\"?c=find&amp;s=1&amp;gub=1&amp;cidx=89\">봉사활동</a>\n",
       " </li>,\n",
       " <li class=\"on\">\n",
       " <a href=\"?c=find&amp;s=1&amp;gub=1&amp;cidx=88\">취업/창업</a>\n",
       " </li>,\n",
       " <li class=\"on\">\n",
       " <a href=\"?c=find&amp;s=1&amp;gub=1&amp;cidx=28\">해외</a>\n",
       " </li>,\n",
       " <li class=\"on\">\n",
       " <a href=\"?c=find&amp;s=1&amp;gub=1&amp;cidx=29\">기타</a>\n",
       " </li>,\n",
       " <li style=\"margin-top:20px;border:0;background:none;text-align:right;\">\n",
       " <span class=\"m-menuclose\">\n",
       " <img alt=\"메뉴 레이어 닫기\" src=\"images/m_btn_close.png\"/>\n",
       " </span>\n",
       " </li>,\n",
       " <li class=\"compe\">\n",
       " <a href=\"#cat-list1\">공모전</a>\n",
       " </li>,\n",
       " <li class=\"evt\">\n",
       " <a href=\"#cat-list2\">이벤트</a>\n",
       " </li>,\n",
       " <li><a href=\"?c=find&amp;s=1&amp;gub=1\">전체</a></li>,\n",
       " <li><a href=\"?c=find&amp;s=1&amp;gub=1&amp;cidx=1\">기획/아이디어</a></li>,\n",
       " <li><a href=\"?c=find&amp;s=1&amp;gub=1&amp;cidx=2\">광고/마케팅</a></li>,\n",
       " <li><a href=\"?c=find&amp;s=1&amp;gub=1&amp;cidx=3\">논문/리포트</a></li>,\n",
       " <li><a href=\"?c=find&amp;s=1&amp;gub=1&amp;cidx=10\">영상/UCC/사진</a></li>,\n",
       " <li><a href=\"?c=find&amp;s=1&amp;gub=1&amp;cidx=19\">디자인/캐릭터/웹툰</a></li>,\n",
       " <li><a href=\"?c=find&amp;s=1&amp;gub=1&amp;cidx=20\">웹/모바일/플래시</a></li>,\n",
       " <li class=\"on\"><a href=\"?c=find&amp;s=1&amp;gub=1&amp;cidx=21\">게임/소프트웨어</a></li>,\n",
       " <li><a href=\"?c=find&amp;s=1&amp;gub=1&amp;cidx=22\">과학/공학</a></li>,\n",
       " <li><a href=\"?c=find&amp;s=1&amp;gub=1&amp;cidx=23\">문학/글/시나리오</a></li>,\n",
       " <li><a href=\"?c=find&amp;s=1&amp;gub=1&amp;cidx=24\">건축/건설/인테리어</a></li>,\n",
       " <li><a href=\"?c=find&amp;s=1&amp;gub=1&amp;cidx=25\">네이밍/슬로건</a></li>,\n",
       " <li><a href=\"?c=find&amp;s=1&amp;gub=1&amp;cidx=26\">예체능/미술/음악</a></li>,\n",
       " <li><a href=\"?c=find&amp;s=1&amp;gub=1&amp;cidx=27\">대외활동/서포터즈</a></li>,\n",
       " <li><a href=\"?c=find&amp;s=1&amp;gub=1&amp;cidx=89\">봉사활동</a></li>,\n",
       " <li><a href=\"?c=find&amp;s=1&amp;gub=1&amp;cidx=88\">취업/창업</a></li>,\n",
       " <li><a href=\"?c=find&amp;s=1&amp;gub=1&amp;cidx=28\">해외</a></li>,\n",
       " <li><a href=\"?c=find&amp;s=1&amp;gub=1&amp;cidx=29\">기타</a></li>,\n",
       " <li><a href=\"?c=find&amp;s=1&amp;gub=2\">전체</a></li>,\n",
       " <li><a href=\"?c=find&amp;s=1&amp;gub=2&amp;cidx=32\">제한없음</a></li>,\n",
       " <li><a href=\"?c=find&amp;s=1&amp;gub=2&amp;cidx=4\">일반인</a></li>,\n",
       " <li><a href=\"?c=find&amp;s=1&amp;gub=2&amp;cidx=5\">대학생</a></li>,\n",
       " <li><a href=\"?c=find&amp;s=1&amp;gub=2&amp;cidx=30\">청소년</a></li>,\n",
       " <li><a href=\"?c=find&amp;s=1&amp;gub=2&amp;cidx=31\">어린이</a></li>,\n",
       " <li><a href=\"?c=find&amp;s=1&amp;gub=2&amp;cidx=90\">기타</a></li>,\n",
       " <li><a href=\"?c=find&amp;s=1&amp;gub=3\">전체</a></li>,\n",
       " <li><a href=\"?c=find&amp;s=1&amp;gub=3&amp;cidx=6\">정부/공공기관</a></li>,\n",
       " <li><a href=\"?c=find&amp;s=1&amp;gub=3&amp;cidx=7\">공기업</a></li>,\n",
       " <li><a href=\"?c=find&amp;s=1&amp;gub=3&amp;cidx=33\">대기업</a></li>,\n",
       " <li><a href=\"?c=find&amp;s=1&amp;gub=3&amp;cidx=34\">신문/방송/언론</a></li>,\n",
       " <li><a href=\"?c=find&amp;s=1&amp;gub=3&amp;cidx=35\">외국계기업</a></li>,\n",
       " <li><a href=\"?c=find&amp;s=1&amp;gub=3&amp;cidx=36\">중견/중소/벤처기업</a></li>,\n",
       " <li><a href=\"?c=find&amp;s=1&amp;gub=3&amp;cidx=37\">비영리/협회/재단</a></li>,\n",
       " <li><a href=\"?c=find&amp;s=1&amp;gub=3&amp;cidx=38\">해외</a></li>,\n",
       " <li><a href=\"?c=find&amp;s=1&amp;gub=3&amp;cidx=39\">기타</a></li>,\n",
       " <li><a href=\"?c=find&amp;s=1&amp;gub=4\">전체</a></li>,\n",
       " <li><a href=\"?c=find&amp;s=1&amp;gub=4&amp;cidx=8\">5천만원이상</a></li>,\n",
       " <li><a href=\"?c=find&amp;s=1&amp;gub=4&amp;cidx=9\">5천만원~3천만원</a></li>,\n",
       " <li><a href=\"?c=find&amp;s=1&amp;gub=4&amp;cidx=40\">3천만원~1천만원</a></li>,\n",
       " <li><a href=\"?c=find&amp;s=1&amp;gub=4&amp;cidx=41\">1천만원이하</a></li>,\n",
       " <li><a href=\"?c=find&amp;s=1&amp;gub=4&amp;cidx=42\">취업특전</a></li>,\n",
       " <li><a href=\"?c=find&amp;s=1&amp;gub=4&amp;cidx=43\">입사시가산점</a></li>,\n",
       " <li><a href=\"?c=find&amp;s=1&amp;gub=4&amp;cidx=44\">인턴채용</a></li>,\n",
       " <li><a href=\"?c=find&amp;s=1&amp;gub=4&amp;cidx=45\">정직원채용</a></li>,\n",
       " <li><a href=\"?c=find&amp;s=1&amp;gub=4&amp;cidx=46\">기타</a></li>,\n",
       " <li><a href=\"?c=event&amp;s=1&amp;gub=1\">전체</a></li>,\n",
       " <li><a href=\"?c=event&amp;s=1&amp;gub=1&amp;cidx=12\">현금/순금</a></li>,\n",
       " <li><a href=\"?c=event&amp;s=1&amp;gub=1&amp;cidx=11\">가전/디지털가전</a></li>,\n",
       " <li><a href=\"?c=event&amp;s=1&amp;gub=1&amp;cidx=47\">상품권/주유권</a></li>,\n",
       " <li><a href=\"?c=event&amp;s=1&amp;gub=1&amp;cidx=48\">IT기기/SW</a></li>,\n",
       " <li><a href=\"?c=event&amp;s=1&amp;gub=1&amp;cidx=49\">여행/항공/숙박</a></li>,\n",
       " <li><a href=\"?c=event&amp;s=1&amp;gub=1&amp;cidx=50\">의류/패션/잡화</a></li>,\n",
       " <li><a href=\"?c=event&amp;s=1&amp;gub=1&amp;cidx=51\">화장품/향수/미용</a></li>,\n",
       " <li><a href=\"?c=event&amp;s=1&amp;gub=1&amp;cidx=52\">적립금/포인트</a></li>,\n",
       " <li><a href=\"?c=event&amp;s=1&amp;gub=1&amp;cidx=53\">할인권/쿠폰/이용권</a></li>,\n",
       " <li><a href=\"?c=event&amp;s=1&amp;gub=1&amp;cidx=54\">가구/주방/생활용품</a></li>,\n",
       " <li><a href=\"?c=event&amp;s=1&amp;gub=1&amp;cidx=55\">헬스/운동용품</a></li>,\n",
       " <li><a href=\"?c=event&amp;s=1&amp;gub=1&amp;cidx=56\">식품/음료/주류/약품</a></li>,\n",
       " <li><a href=\"?c=event&amp;s=1&amp;gub=1&amp;cidx=57\">유아/아동/문구/완구</a></li>,\n",
       " <li><a href=\"?c=event&amp;s=1&amp;gub=1&amp;cidx=58\">자동차/용품</a></li>,\n",
       " <li><a href=\"?c=event&amp;s=1&amp;gub=1&amp;cidx=59\">도서/음반</a></li>,\n",
       " <li><a href=\"?c=event&amp;s=1&amp;gub=1&amp;cidx=61\">시사회초대</a></li>,\n",
       " <li><a href=\"?c=event&amp;s=1&amp;gub=1&amp;cidx=62\">콘서트/전시회/공연</a></li>,\n",
       " <li><a href=\"?c=event&amp;s=1&amp;gub=1&amp;cidx=63\">영화/공연예매권</a></li>,\n",
       " <li><a href=\"?c=event&amp;s=1&amp;gub=1&amp;cidx=64\">샘플</a></li>,\n",
       " <li><a href=\"?c=event&amp;s=1&amp;gub=1&amp;cidx=65\">기타</a></li>,\n",
       " <li><a href=\"?c=event&amp;s=1&amp;gub=2\">전체</a></li>,\n",
       " <li><a href=\"?c=event&amp;s=1&amp;gub=2&amp;cidx=13\">간편응모</a></li>,\n",
       " <li><a href=\"?c=event&amp;s=1&amp;gub=2&amp;cidx=14\">신규가입</a></li>,\n",
       " <li><a href=\"?c=event&amp;s=1&amp;gub=2&amp;cidx=15\">100% 전원당첨</a></li>,\n",
       " <li><a href=\"?c=event&amp;s=1&amp;gub=2&amp;cidx=66\">퀴즈</a></li>,\n",
       " <li><a href=\"?c=event&amp;s=1&amp;gub=2&amp;cidx=67\">퍼즐/낱말퍼즐</a></li>,\n",
       " <li><a href=\"?c=event&amp;s=1&amp;gub=2&amp;cidx=68\">게임</a></li>,\n",
       " <li><a href=\"?c=event&amp;s=1&amp;gub=2&amp;cidx=69\">감상평/리플/단문</a></li>,\n",
       " <li><a href=\"?c=event&amp;s=1&amp;gub=2&amp;cidx=70\">사연/후기/장문쓰기</a></li>,\n",
       " <li><a href=\"?c=event&amp;s=1&amp;gub=2&amp;cidx=71\">행시짓기</a></li>,\n",
       " <li><a href=\"?c=event&amp;s=1&amp;gub=2&amp;cidx=72\">노하우/요리법</a></li>,\n",
       " <li><a href=\"?c=event&amp;s=1&amp;gub=2&amp;cidx=73\">사진/동영상</a></li>,\n",
       " <li><a href=\"?c=event&amp;s=1&amp;gub=2&amp;cidx=74\">제안/공모</a></li>,\n",
       " <li><a href=\"?c=event&amp;s=1&amp;gub=2&amp;cidx=75\">설문/투표</a></li>,\n",
       " <li><a href=\"?c=event&amp;s=1&amp;gub=2&amp;cidx=76\">소문내기/추천인모집</a></li>,\n",
       " <li><a href=\"?c=event&amp;s=1&amp;gub=2&amp;cidx=77\">모니터/테스터/체험</a></li>,\n",
       " <li><a href=\"?c=event&amp;s=1&amp;gub=2&amp;cidx=78\">단순응모</a></li>,\n",
       " <li><a href=\"?c=event&amp;s=1&amp;gub=2&amp;cidx=79\">선착순</a></li>,\n",
       " <li><a href=\"?c=event&amp;s=1&amp;gub=2&amp;cidx=80\">즉석</a></li>,\n",
       " <li><a href=\"?c=event&amp;s=1&amp;gub=2&amp;cidx=81\">SNS</a></li>,\n",
       " <li><a href=\"?c=event&amp;s=1&amp;gub=2&amp;cidx=82\">기타</a></li>,\n",
       " <li><a href=\"?c=event&amp;s=1&amp;gub=3\">전체</a></li>,\n",
       " <li><a href=\"?c=event&amp;s=1&amp;gub=3&amp;cidx=16\">누구나 참여</a></li>,\n",
       " <li><a href=\"?c=event&amp;s=1&amp;gub=3&amp;cidx=17\">로그인 후 참여</a></li>,\n",
       " <li><a href=\"?c=event&amp;s=1&amp;gub=3&amp;cidx=83\">신규회원참여</a></li>,\n",
       " <li><a href=\"?c=event&amp;s=1&amp;gub=4\">전체</a></li>,\n",
       " <li><a href=\"?c=event&amp;s=1&amp;gub=4&amp;cidx=18\">IT기기/스마트기기</a></li>,\n",
       " <li><a href=\"?c=event&amp;s=1&amp;gub=4&amp;cidx=84\">가전/디지털가전</a></li>,\n",
       " <li><a href=\"?c=event&amp;s=1&amp;gub=4&amp;cidx=85\">상품권/쿠폰</a></li>,\n",
       " <li><a href=\"?c=event&amp;s=1&amp;gub=4&amp;cidx=86\">영화/공연예매</a></li>,\n",
       " <li class=\"on\"><a href=\"?c=find&amp;s=1&amp;gub=1&amp;cidx=21&amp;gbn=list\">전체</a></li>,\n",
       " <li><a href=\"?c=find&amp;s=1&amp;gub=1&amp;cidx=21&amp;sp=&amp;sw=&amp;gbn=list&amp;mode=spec\">스페셜</a></li>,\n",
       " <li><a href=\"?c=find&amp;s=1&amp;gub=1&amp;cidx=21&amp;sp=&amp;sw=&amp;gbn=list&amp;mode=new\">신규</a></li>,\n",
       " <li><a href=\"?c=find&amp;s=1&amp;gub=1&amp;cidx=21&amp;sp=&amp;sw=&amp;gbn=list&amp;mode=soon\">마감임박</a></li>,\n",
       " <li><a href=\"?c=find&amp;s=1&amp;gub=1&amp;cidx=21&amp;sp=&amp;sw=&amp;gbn=list&amp;mode=ing\">접수중</a></li>,\n",
       " <li><a href=\"?c=find&amp;s=1&amp;gub=1&amp;cidx=21&amp;sp=&amp;sw=&amp;gbn=list&amp;mode=future\">접수예정</a></li>,\n",
       " <li><a href=\"?c=find&amp;s=1&amp;gub=1&amp;cidx=21&amp;sp=&amp;sw=&amp;gbn=list&amp;mode=end\">마감</a></li>,\n",
       " <li class=\"top\">\n",
       " <div class=\"tit\">\n",
       " \t\t\t\t\t공모전명\n",
       " \t\t\t\t</div>\n",
       " <div class=\"organ\">주최사</div>\n",
       " <div class=\"day\">\n",
       " \t\t\t\t\t현재현황\n",
       " \t\t\t\t</div>\n",
       " <div class=\"read\">조회수</div>\n",
       " </li>,\n",
       " <li><a href=\"?c=intro\">사이트소개</a></li>,\n",
       " <li><a href=\"?c=intro&amp;s=2\">광고안내</a></li>,\n",
       " <li><a href=\"?c=intro&amp;s=3\">제휴문의</a></li>,\n",
       " <li><a href=\"?c=intro&amp;s=4\">이용약관</a></li>,\n",
       " <li><a href=\"?c=intro&amp;s=5\" style=\"color:#ccc;\">개인정보처리방침</a></li>,\n",
       " <li><a href=\"?c=intro&amp;s=6\">책임한계와 법적고지</a></li>]"
      ]
     },
     "execution_count": 248,
     "metadata": {},
     "output_type": "execute_result"
    }
   ],
   "source": [
    "soup.select('li')"
   ]
  },
  {
   "cell_type": "code",
   "execution_count": 219,
   "metadata": {},
   "outputs": [],
   "source": [
    "len_link = len(soup.select(' .bg > .tit > a'))"
   ]
  },
  {
   "cell_type": "code",
   "execution_count": 220,
   "metadata": {},
   "outputs": [
    {
     "data": {
      "text/plain": [
       "0"
      ]
     },
     "execution_count": 220,
     "metadata": {},
     "output_type": "execute_result"
    }
   ],
   "source": [
    "len_link"
   ]
  },
  {
   "cell_type": "code",
   "execution_count": 186,
   "metadata": {},
   "outputs": [
    {
     "data": {
      "text/plain": [
       "[<div class=\"day\">\n",
       " \t\t\t\t\t현재현황\n",
       " \t\t\t\t</div>]"
      ]
     },
     "execution_count": 186,
     "metadata": {},
     "output_type": "execute_result"
    }
   ],
   "source": [
    "test_dat = []\n",
    "for i in range(len_link):\n",
    "    test_day = soup.select('div.day')\n",
    "test_day"
   ]
  },
  {
   "cell_type": "code",
   "execution_count": 185,
   "metadata": {},
   "outputs": [],
   "source": [
    "for i in range(len_link):\n",
    "    print(i)\n",
    "    if soup.select('span.dday')[i].text =='마감':\n",
    "        break"
   ]
  },
  {
   "cell_type": "code",
   "execution_count": 155,
   "metadata": {},
   "outputs": [],
   "source": [
    "list = soup.select('span.dday')"
   ]
  },
  {
   "cell_type": "code",
   "execution_count": 156,
   "metadata": {},
   "outputs": [
    {
     "data": {
      "text/plain": [
       "[<span class=\"dday ing\">접수중</span>,\n",
       " <span class=\"dday ing\">접수중</span>,\n",
       " <span class=\"dday soon\">마감임박</span>,\n",
       " <span class=\"dday ing\">접수중</span>,\n",
       " <span class=\"dday ing\">접수중</span>,\n",
       " <span class=\"dday soon\">마감임박</span>,\n",
       " <span class=\"dday future\">접수예정</span>,\n",
       " <span class=\"dday ing\">접수중</span>,\n",
       " <span class=\"dday ing\">접수중</span>,\n",
       " <span class=\"dday soon\">마감임박</span>,\n",
       " <span class=\"dday soon\">마감임박</span>,\n",
       " <span class=\"dday soon\">마감임박</span>,\n",
       " <span class=\"dday soon\">마감임박</span>,\n",
       " <span class=\"dday soon\">마감임박</span>,\n",
       " <span class=\"dday ing\">접수중</span>]"
      ]
     },
     "execution_count": 156,
     "metadata": {},
     "output_type": "execute_result"
    }
   ],
   "source": [
    "list"
   ]
  },
  {
   "cell_type": "code",
   "execution_count": 179,
   "metadata": {},
   "outputs": [
    {
     "name": "stdout",
     "output_type": "stream",
     "text": [
      "[<div class=\"organ\">주최사</div>]\n"
     ]
    }
   ],
   "source": [
    "print(soup.select('div.organ'))"
   ]
  },
  {
   "cell_type": "code",
   "execution_count": 123,
   "metadata": {},
   "outputs": [],
   "source": [
    "#주최\n",
    "# 해당 공모전 페이지 안에 들어가서 구함\n",
    "for i in range(len(links)):\n",
    "    headers = {'User-Agent':'Mozilla/5.0'} \n",
    "    res = requests.get(links[i], headers=headers)\n",
    "    soup = BeautifulSoup(res.content.decode('utf-8', 'replace'), 'html.parser')\n",
    "    \n",
    "    inst.append(soup.select(' tbody > tr > td ')[0].text)"
   ]
  },
  {
   "cell_type": "code",
   "execution_count": 113,
   "metadata": {},
   "outputs": [],
   "source": [
    "tabl_data = {'제목': titles, \n",
    "            '날짜': dday,\n",
    "            '기관':inst,\n",
    "            '링크':links}"
   ]
  },
  {
   "cell_type": "code",
   "execution_count": 114,
   "metadata": {},
   "outputs": [],
   "source": [
    "df = pd.DataFrame(tabl_data, columns=['제목','날짜','기관','링크'])  "
   ]
  },
  {
   "cell_type": "code",
   "execution_count": 115,
   "metadata": {},
   "outputs": [
    {
     "data": {
      "text/html": [
       "<div>\n",
       "<style scoped>\n",
       "    .dataframe tbody tr th:only-of-type {\n",
       "        vertical-align: middle;\n",
       "    }\n",
       "\n",
       "    .dataframe tbody tr th {\n",
       "        vertical-align: top;\n",
       "    }\n",
       "\n",
       "    .dataframe thead th {\n",
       "        text-align: right;\n",
       "    }\n",
       "</style>\n",
       "<table border=\"1\" class=\"dataframe\">\n",
       "  <thead>\n",
       "    <tr style=\"text-align: right;\">\n",
       "      <th></th>\n",
       "      <th>제목</th>\n",
       "      <th>날짜</th>\n",
       "      <th>기관</th>\n",
       "      <th>링크</th>\n",
       "    </tr>\n",
       "  </thead>\n",
       "  <tbody>\n",
       "  </tbody>\n",
       "</table>\n",
       "</div>"
      ],
      "text/plain": [
       "Empty DataFrame\n",
       "Columns: [제목, 날짜, 기관, 링크]\n",
       "Index: []"
      ]
     },
     "execution_count": 115,
     "metadata": {},
     "output_type": "execute_result"
    }
   ],
   "source": [
    "df"
   ]
  },
  {
   "cell_type": "code",
   "execution_count": null,
   "metadata": {},
   "outputs": [],
   "source": [
    "df.to_csv('thinkgood_210120.csv', encoding='utf-8-sig')"
   ]
  },
  {
   "cell_type": "code",
   "execution_count": null,
   "metadata": {},
   "outputs": [],
   "source": []
  },
  {
   "cell_type": "code",
   "execution_count": null,
   "metadata": {},
   "outputs": [],
   "source": []
  },
  {
   "cell_type": "code",
   "execution_count": null,
   "metadata": {},
   "outputs": [],
   "source": []
  },
  {
   "cell_type": "code",
   "execution_count": null,
   "metadata": {},
   "outputs": [],
   "source": []
  }
 ],
 "metadata": {
  "kernelspec": {
   "display_name": "Python 3",
   "language": "python",
   "name": "python3"
  },
  "language_info": {
   "codemirror_mode": {
    "name": "ipython",
    "version": 3
   },
   "file_extension": ".py",
   "mimetype": "text/x-python",
   "name": "python",
   "nbconvert_exporter": "python",
   "pygments_lexer": "ipython3",
   "version": "3.7.6"
  }
 },
 "nbformat": 4,
 "nbformat_minor": 4
}
