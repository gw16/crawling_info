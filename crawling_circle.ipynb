{
 "cells": [
  {
   "cell_type": "code",
   "execution_count": 1,
   "metadata": {},
   "outputs": [],
   "source": [
    "import firebase_admin\n",
    "from firebase_admin import credentials\n",
    "from firebase_admin import db\n",
    "import pandas as pd"
   ]
  },
  {
   "cell_type": "code",
   "execution_count": 2,
   "metadata": {},
   "outputs": [],
   "source": [
    "import numpy as np\n",
    "import csv\n",
    "\n",
    "import requests\n",
    "from bs4 import BeautifulSoup\n",
    "import re\n",
    "import urllib.request\n",
    "import time\n",
    "from time import sleep\n",
    "\n",
    "from selenium.webdriver import Chrome\n",
    "from selenium.webdriver.chrome.options import Options\n",
    "from selenium.webdriver.common.keys import Keys\n",
    "from selenium import webdriver\n",
    "\n",
    "\n",
    "import schedule\n",
    "import time\n",
    "from datetime import datetime\n",
    "import pyrebase"
   ]
  },
  {
   "cell_type": "code",
   "execution_count": 46,
   "metadata": {},
   "outputs": [],
   "source": [
    "def title_circle():\n",
    "    title_bef =[]\n",
    "    conditions = []\n",
    "    page_num = 1\n",
    "    while(page_num<=5):\n",
    "        url = 'https://www.contestkorea.com/sub/list.php?displayrow=12&Txt_sGn=1&Txt_key=all&Txt_word=&Txt_bcode=030210001&Txt_code1%5B0%5D=30&Txt_code1%5B1%5D=76&Txt_aarea=&Txt_area=&Txt_sortkey=a.int_sort&Txt_sortword=desc&Txt_chocode=&Txt_unicode=&page=' + str(page_num)\n",
    "        req = urllib.request.urlopen(url)\n",
    "        res = req.read()\n",
    "        soup = BeautifulSoup(res,'html.parser')\n",
    "        titles = soup.find_all(\"span\", class_ = \"txt\")\n",
    "        titles = list(titles)\n",
    "        condition = soup.find_all(\"span\", class_=\"condition\")\n",
    "        condition = list(condition)\n",
    "        for i in range(len(condition)):\n",
    "            condition[i] = (str(condition[i]).strip('<span class=\"condition\">').strip(\"</span>\"))\n",
    "            if condition[i] != '접수종료':\n",
    "                conditions.append((condition[i]))\n",
    "                titles[i] = (str(titles[i]).strip('<span class=\"txt\">').strip(\"</'\").strip(\" \"))\n",
    "                if '공모전' not in titles[i]:\n",
    "                    title_bef.append(titles[i])\n",
    "                \n",
    "        page_num+=1\n",
    "    return title_bef "
   ]
  },
  {
   "cell_type": "code",
   "execution_count": 47,
   "metadata": {},
   "outputs": [
    {
     "data": {
      "text/plain": [
       "['스타트업과 함께하는 피버팅 해커톤', '2021 다솜이 드림메이커스']"
      ]
     },
     "execution_count": 47,
     "metadata": {},
     "output_type": "execute_result"
    }
   ],
   "source": [
    "title_circle()"
   ]
  },
  {
   "cell_type": "code",
   "execution_count": 75,
   "metadata": {},
   "outputs": [],
   "source": [
    "def title_circle2():\n",
    "    title_bef =[]\n",
    "    days_bef = []\n",
    "    start_bef = []\n",
    "    end_bef = []\n",
    "    conditions = []\n",
    "    page_num = 1\n",
    "    while(page_num<=5):\n",
    "        url = 'https://www.contestkorea.com/sub/list.php?displayrow=12&Txt_sGn=1&Txt_key=all&Txt_word=&Txt_bcode=030210001&Txt_code1%5B0%5D=30&Txt_code1%5B1%5D=76&Txt_aarea=&Txt_area=&Txt_sortkey=a.int_sort&Txt_sortword=desc&Txt_chocode=&Txt_unicode=&page=' + str(page_num)\n",
    "        req = urllib.request.urlopen(url)\n",
    "        res = req.read()\n",
    "        soup = BeautifulSoup(res,'html.parser')\n",
    "        titles = soup.find_all(\"span\", class_ = \"txt\")\n",
    "        titles = list(titles)\n",
    "        condition = soup.find_all(\"span\", class_=\"condition\")\n",
    "        condition = list(condition)\n",
    "#        days = soup.find_all(\"div\", class_=\"date\")\n",
    "        days = soup.select(\".date > div\" )\n",
    "        days = list(days)\n",
    "\n",
    "        for i in range(len(condition)):\n",
    "            days[i] = (str(days[i]).strip('<div>').strip(\">\").strip(\"\\t\"))\n",
    "\n",
    "            \n",
    "            condition[i] = (str(condition[i]).strip('<span class=\"condition\">').strip(\"</span>\"))\n",
    "            if condition[i] != '접수종료':\n",
    "                conditions.append((condition[i]))\n",
    "                titles[i] = (str(titles[i]).strip('<span class=\"txt\">').strip(\"</'\").strip(\" \"))\n",
    "                days[i] = (str(days[i]).strip('<div>').strip('\\n\\t').strip('\\t</'))\n",
    "                \n",
    "                if '공모전' not in titles[i]:\n",
    "                    title_bef.append(titles[i])\n",
    "                    start_day,end_day = days[i].split('~')\n",
    "                    start_bef.append(start_day.replace(\".\", \". \"))\n",
    "                    end_bef.append(end_day.replace(\".\", \". \"))\n",
    "        page_num+=1\n",
    "    return start_bef\n",
    "        \n",
    "        \n"
   ]
  },
  {
   "cell_type": "code",
   "execution_count": 105,
   "metadata": {},
   "outputs": [],
   "source": [
    "def title_circle3():\n",
    "    title_bef =[]\n",
    "    days_bef = []\n",
    "    start_bef = []\n",
    "    end_bef = []\n",
    "    conditions = []\n",
    "    inst_bef = []\n",
    "    page_num = 1\n",
    "    while(page_num<=5):\n",
    "        url = 'https://www.contestkorea.com/sub/list.php?displayrow=12&Txt_sGn=1&Txt_key=all&Txt_word=&Txt_bcode=030210001&Txt_code1%5B0%5D=30&Txt_code1%5B1%5D=76&Txt_aarea=&Txt_area=&Txt_sortkey=a.int_sort&Txt_sortword=desc&Txt_chocode=&Txt_unicode=&page=' + str(page_num)\n",
    "        req = urllib.request.urlopen(url)\n",
    "        res = req.read()\n",
    "        soup = BeautifulSoup(res,'html.parser')\n",
    "        titles = soup.find_all(\"span\", class_ = \"txt\")\n",
    "        titles = list(titles)\n",
    "        condition = soup.find_all(\"span\", class_=\"condition\")\n",
    "        condition = list(condition)\n",
    "#        days = soup.find_all(\"div\", class_=\"date\")\n",
    "        days = soup.select(\".date > div\" )\n",
    "        days = list(days)\n",
    "        \n",
    "        inst = soup.select(\".host > .icon_1\" )\n",
    "        inst = list(inst)\n",
    "\n",
    "\n",
    "        for i in range(len(condition)):\n",
    "            days[i] = (str(days[i]).strip('<div>').strip(\">\").strip(\"\\t\"))\n",
    "\n",
    "            \n",
    "            condition[i] = (str(condition[i]).strip('<span class=\"condition\">').strip(\"</span>\"))\n",
    "            if condition[i] != '접수종료':\n",
    "                conditions.append((condition[i]))\n",
    "                titles[i] = (str(titles[i]).strip('<span class=\"txt\">').strip(\"</'\").strip(\" \"))\n",
    "                days[i] = (str(days[i]).strip('<div>').strip('\\n\\t').strip('</li>'))\n",
    "                inst[i] = (str(inst[i]).strip('<li class=\"icon_1\"><strong>주최</strong> . ').strip('<div>'))\n",
    "                if '공모전' not in titles[i]:\n",
    "                    title_bef.append(titles[i])\n",
    "                    start_day,end_day = days[i].split('~')\n",
    "                    start_bef.append(start_day.replace(\".\", \". \"))\n",
    "                    end_bef.append(end_day.replace(\".\", \". \"))\n",
    "                    inst_bef.append(inst[i])\n",
    "                    \n",
    "        page_num+=1\n",
    "    return inst_bef\n",
    "        \n",
    "        \n"
   ]
  },
  {
   "cell_type": "code",
   "execution_count": 106,
   "metadata": {},
   "outputs": [
    {
     "data": {
      "text/plain": [
       "['한국무역협회', '생명보험사회공헌재단, 교보생명']"
      ]
     },
     "execution_count": 106,
     "metadata": {},
     "output_type": "execute_result"
    }
   ],
   "source": [
    "title_circle3()"
   ]
  },
  {
   "cell_type": "code",
   "execution_count": 224,
   "metadata": {},
   "outputs": [],
   "source": [
    "def base_ck():\n",
    "    title_bef =[]\n",
    "    days_bef = []\n",
    "    start_bef = []\n",
    "    end_bef = []\n",
    "    conditions = []\n",
    "    inst_bef = []\n",
    "    link_bef = []\n",
    "    page_num = 1\n",
    "    while(page_num<=5):\n",
    "        url = 'https://www.contestkorea.com/sub/list.php?displayrow=12&Txt_sGn=1&Txt_key=all&Txt_word=&Txt_bcode=030210001&Txt_code1%5B0%5D=30&Txt_code1%5B1%5D=76&Txt_aarea=&Txt_area=&Txt_sortkey=a.int_sort&Txt_sortword=desc&Txt_chocode=&Txt_unicode=&page=' + str(page_num)\n",
    "        req = urllib.request.urlopen(url)\n",
    "        res = req.read()\n",
    "        soup = BeautifulSoup(res,'html.parser')\n",
    "        titles = soup.find_all(\"span\", class_ = \"txt\")\n",
    "        titles = list(titles)\n",
    "        condition = soup.find_all(\"span\", class_=\"condition\")\n",
    "        condition = list(condition)\n",
    "        days = soup.select(\".date > div\" )\n",
    "        days = list(days)\n",
    "        \n",
    "        inst = soup.select(\".host > .icon_1\" )\n",
    "        inst = list(inst)\n",
    "\n",
    "        for i in range(len(condition)):\n",
    "            days[i] = (str(days[i]).strip('<div>').strip(\">\").strip(\"\\t\"))\n",
    "            condition[i] = (str(condition[i]).strip('<span class=\"condition\">').strip(\"</span>\"))\n",
    "            if condition[i] != '접수종료':\n",
    "                conditions.append((condition[i]))\n",
    "                titles[i] = (str(titles[i]).strip('<span class=\"txt\">').strip(\"</'\").strip(\" \"))\n",
    "                days[i] = (str(days[i]).strip('<div>').strip('\\n\\t').strip('</li>'))\n",
    "                inst[i] = (str(inst[i]).strip('<li class=\"icon_1\"><strong>주최</strong> . ').strip('<div>'))\n",
    "                if '공모전' not in titles[i]:\n",
    "                    title_bef.append(titles[i])\n",
    "                    start_day,end_day = days[i].split('~')\n",
    "                    start_bef.append(start_day.replace(\".\", \". \"))\n",
    "                    end_bef.append(end_day.replace(\".\", \". \").strip('\\t'))\n",
    "                    inst_bef.append(inst[i])             \n",
    "        page_num+=1\n",
    "    return title_bef, start_bef, end_bef, inst_bef        \n",
    "        \n"
   ]
  },
  {
   "cell_type": "code",
   "execution_count": 225,
   "metadata": {},
   "outputs": [
    {
     "data": {
      "text/plain": [
       "(['스타트업과 함께하는 피버팅 해커톤', '2021 다솜이 드림메이커스'],\n",
       " ['21. 02. 26', '21. 01. 13'],\n",
       " ['21. 03. 08', '21. 12. 31'],\n",
       " ['한국무역협회', '생명보험사회공헌재단, 교보생명'])"
      ]
     },
     "execution_count": 225,
     "metadata": {},
     "output_type": "execute_result"
    }
   ],
   "source": [
    "base_ck()"
   ]
  },
  {
   "cell_type": "code",
   "execution_count": 226,
   "metadata": {},
   "outputs": [],
   "source": [
    "def link_ck():\n",
    "    conditions=[]\n",
    "    link_bef = []\n",
    "    page_num = 1\n",
    "    while(page_num<=5):\n",
    "        url = 'https://www.contestkorea.com/sub/list.php?displayrow=12&Txt_sGn=1&Txt_key=all&Txt_word=&Txt_bcode=030210001&Txt_code1%5B0%5D=30&Txt_code1%5B1%5D=76&Txt_aarea=&Txt_area=&Txt_sortkey=a.int_sort&Txt_sortword=desc&Txt_chocode=&Txt_unicode=&page=' + str(page_num)\n",
    "        req = urllib.request.urlopen(url)\n",
    "        res = req.read()\n",
    "        soup = BeautifulSoup(res,'html.parser')\n",
    "        titles = soup.find_all(\"span\", class_ = \"txt\")\n",
    "        titles = list(titles)\n",
    "        condition = soup.find_all(\"span\", class_=\"condition\")\n",
    "        condition = list(condition)\n",
    "        for i in range(len(condition)):\n",
    "            condition[i] = (str(condition[i]).strip('<span class=\"condition\">').strip(\"</span>\"))\n",
    "            if condition[i] != '접수종료':\n",
    "                conditions.append((condition[i]))\n",
    "                titles[i] = (str(titles[i]).strip('<span class=\"txt\">').strip(\"</'\").strip(\" \"))\n",
    "                if '공모전' not in titles[i]:                 \n",
    "                    browser = Chrome('./chromedriver')\n",
    "                    delay=1\n",
    "                    browser.implicitly_wait(delay)\n",
    "                    browser.get(url)\n",
    "                    browser.maximize_window()\n",
    "                    link_adress = '//*[@id=\"frm\"]/div/div[4]/ul/li['+ str(i+1) + ']/div[1]/a'\n",
    "                    browser.find_elements_by_xpath(link_adress)[0].click()\n",
    "                    sleep(0.5)\n",
    "                    link_bef.append(browser.current_url)\n",
    "                    \n",
    "                    \n",
    "        page_num+=1\n",
    "    return link_bef"
   ]
  },
  {
   "cell_type": "code",
   "execution_count": 227,
   "metadata": {},
   "outputs": [
    {
     "data": {
      "text/plain": [
       "['https://www.contestkorea.com/sub/view.php?displayrow=12&Txt_sGn=1&Txt_key=all&Txt_word=&Txt_bcode=030210001&Txt_code1%5B0%5D=30&Txt_code1%5B1%5D=76&Txt_aarea=&Txt_area=&Txt_sortkey=a.int_sort&Txt_sortword=desc&Txt_chocode=&Txt_unicode=&page=1&Txt_bcode=030220003&str_no=202102040025',\n",
       " 'https://www.contestkorea.com/sub/view.php?displayrow=12&Txt_sGn=1&Txt_key=all&Txt_word=&Txt_bcode=030210001&Txt_code1%5B0%5D=30&Txt_code1%5B1%5D=76&Txt_aarea=&Txt_area=&Txt_sortkey=a.int_sort&Txt_sortword=desc&Txt_chocode=&Txt_unicode=&page=1&Txt_bcode=030220007&str_no=202101140032']"
      ]
     },
     "execution_count": 227,
     "metadata": {},
     "output_type": "execute_result"
    }
   ],
   "source": [
    "link_ck()"
   ]
  },
  {
   "cell_type": "code",
   "execution_count": 230,
   "metadata": {},
   "outputs": [],
   "source": [
    "def crawling_ck():\n",
    "    title_bef, start_bef, end_bef, inst_bef = base_ck()\n",
    "    link_bef = link_ck()\n",
    "    \n",
    "    tabl_data_bef = {'type':\"경진대회\", 'qualification': \"대학(원)생\",'title':  title_bef, 'notice': start_bef,  'deadline': end_bef, 'sponsor':inst_bef, 'title2': title_bef,\n",
    "                     'link':link_bef}\n",
    "\n",
    "    df_bef = pd.DataFrame(tabl_data_bef, columns=['type', 'qualification', 'title', 'notice', 'deadline', 'dday', 'sponsor', 'title2', 'link'])\n",
    "\n",
    "\n",
    "\n",
    "\n",
    "    return df_bef\n",
    "    "
   ]
  },
  {
   "cell_type": "code",
   "execution_count": 229,
   "metadata": {},
   "outputs": [
    {
     "data": {
      "text/html": [
       "<div>\n",
       "<style scoped>\n",
       "    .dataframe tbody tr th:only-of-type {\n",
       "        vertical-align: middle;\n",
       "    }\n",
       "\n",
       "    .dataframe tbody tr th {\n",
       "        vertical-align: top;\n",
       "    }\n",
       "\n",
       "    .dataframe thead th {\n",
       "        text-align: right;\n",
       "    }\n",
       "</style>\n",
       "<table border=\"1\" class=\"dataframe\">\n",
       "  <thead>\n",
       "    <tr style=\"text-align: right;\">\n",
       "      <th></th>\n",
       "      <th>type</th>\n",
       "      <th>qualification</th>\n",
       "      <th>title</th>\n",
       "      <th>notice</th>\n",
       "      <th>deadline</th>\n",
       "      <th>dday</th>\n",
       "      <th>sponsor</th>\n",
       "      <th>title2</th>\n",
       "      <th>link</th>\n",
       "    </tr>\n",
       "  </thead>\n",
       "  <tbody>\n",
       "    <tr>\n",
       "      <th>0</th>\n",
       "      <td>공모전</td>\n",
       "      <td>대학(원)생</td>\n",
       "      <td>스타트업과 함께하는 피버팅 해커톤</td>\n",
       "      <td>21. 02. 26</td>\n",
       "      <td>21. 03. 08</td>\n",
       "      <td>NaN</td>\n",
       "      <td>한국무역협회</td>\n",
       "      <td>스타트업과 함께하는 피버팅 해커톤</td>\n",
       "      <td>https://www.contestkorea.com/sub/view.php?disp...</td>\n",
       "    </tr>\n",
       "    <tr>\n",
       "      <th>1</th>\n",
       "      <td>공모전</td>\n",
       "      <td>대학(원)생</td>\n",
       "      <td>2021 다솜이 드림메이커스</td>\n",
       "      <td>21. 01. 13</td>\n",
       "      <td>21. 12. 31</td>\n",
       "      <td>NaN</td>\n",
       "      <td>생명보험사회공헌재단, 교보생명</td>\n",
       "      <td>2021 다솜이 드림메이커스</td>\n",
       "      <td>https://www.contestkorea.com/sub/view.php?disp...</td>\n",
       "    </tr>\n",
       "  </tbody>\n",
       "</table>\n",
       "</div>"
      ],
      "text/plain": [
       "  type qualification               title      notice    deadline dday  \\\n",
       "0  공모전        대학(원)생  스타트업과 함께하는 피버팅 해커톤  21. 02. 26  21. 03. 08  NaN   \n",
       "1  공모전        대학(원)생     2021 다솜이 드림메이커스  21. 01. 13  21. 12. 31  NaN   \n",
       "\n",
       "            sponsor              title2  \\\n",
       "0            한국무역협회  스타트업과 함께하는 피버팅 해커톤   \n",
       "1  생명보험사회공헌재단, 교보생명     2021 다솜이 드림메이커스   \n",
       "\n",
       "                                                link  \n",
       "0  https://www.contestkorea.com/sub/view.php?disp...  \n",
       "1  https://www.contestkorea.com/sub/view.php?disp...  "
      ]
     },
     "execution_count": 229,
     "metadata": {},
     "output_type": "execute_result"
    }
   ],
   "source": [
    "crawling_ck()"
   ]
  },
  {
   "cell_type": "code",
   "execution_count": null,
   "metadata": {},
   "outputs": [],
   "source": []
  }
 ],
 "metadata": {
  "kernelspec": {
   "display_name": "Python 3",
   "language": "python",
   "name": "python3"
  },
  "language_info": {
   "codemirror_mode": {
    "name": "ipython",
    "version": 3
   },
   "file_extension": ".py",
   "mimetype": "text/x-python",
   "name": "python",
   "nbconvert_exporter": "python",
   "pygments_lexer": "ipython3",
   "version": "3.7.6"
  }
 },
 "nbformat": 4,
 "nbformat_minor": 4
}
